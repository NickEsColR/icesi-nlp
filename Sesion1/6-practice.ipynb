{
 "cells": [
  {
   "cell_type": "markdown",
   "metadata": {},
   "source": [
    "# NLP Basics Assessment"
   ]
  },
  {
   "cell_type": "markdown",
   "metadata": {},
   "source": [
    "[![Open In Colab](https://colab.research.google.com/assets/colab-badge.svg)](https://colab.research.google.com/github/NickEsColR/icesi-nlp/blob/main/Sesion1/6-practice.ipynb)\n",
    "\n",
    "En este notebook vamos a poner en práctica algunos de los conceptos vistos en los notebooks anteriores, aplicado a un corpus específico: \n",
    "[_John F. Kennedy's Inaugural Address_](https://en.wikipedia.org/wiki/Inauguration_of_John_F._Kennedy) por Ambrose Bierce (1890). Esta historia es de dominio público y el corpus fue obtenido de [Project Gutenberg](https://www.gutenberg.org/ebooks/3.txt.utf-8).\n",
    "\n",
    "## Referencias\n",
    "* [NLP - Natural Language Processing With Python](https://www.udemy.com/course/nlp-natural-language-processing-with-python)"
   ]
  },
  {
   "cell_type": "markdown",
   "metadata": {},
   "source": [
    "Run the Cell bellow if you don't have `en_core_web_sm` downloaded"
   ]
  },
  {
   "cell_type": "code",
   "execution_count": null,
   "metadata": {},
   "outputs": [],
   "source": [
    "!python -m spacy download en_core_web_sm"
   ]
  },
  {
   "cell_type": "code",
   "execution_count": 1,
   "metadata": {},
   "outputs": [
    {
     "name": "stderr",
     "output_type": "stream",
     "text": [
      "/tmp/ipykernel_2152/2396000874.py:1: UserWarning: pkg_resources is deprecated as an API. See https://setuptools.pypa.io/en/latest/pkg_resources.html. The pkg_resources package is slated for removal as early as 2025-11-30. Refrain from using this package or pin to Setuptools<81.\n",
      "  import pkg_resources\n"
     ]
    }
   ],
   "source": [
    "import pkg_resources\n",
    "import warnings\n",
    "\n",
    "warnings.filterwarnings('ignore')\n",
    "\n",
    "installed_packages = [package.key for package in pkg_resources.working_set]\n",
    "IN_COLAB = 'google-colab' in installed_packages"
   ]
  },
  {
   "cell_type": "code",
   "execution_count": 2,
   "metadata": {},
   "outputs": [],
   "source": [
    "!test '{IN_COLAB}' = 'True' && wget  https://github.com/Ohtar10/icesi-nlp/raw/refs/heads/main/requirements.txt && pip install -r requirements.txt"
   ]
  },
  {
   "cell_type": "code",
   "execution_count": null,
   "metadata": {},
   "outputs": [],
   "source": [
    "import spacy\n",
    "nlp = spacy.load('en_core_web_sm')"
   ]
  },
  {
   "cell_type": "markdown",
   "metadata": {},
   "source": [
    "**1. Creamos el documento desde el archivo `JFKIA.txt`**<br>\n",
    "> Pista: Usa `with open('./JFKIA.txt') as f:`"
   ]
  },
  {
   "cell_type": "code",
   "execution_count": 4,
   "metadata": {},
   "outputs": [],
   "source": [
    "!test '{IN_COLAB}' = 'True' && wget  https://github.com/NickEsColR/icesi-nlp/raw/refs/heads/main/Sesion1/JFKIA.txt"
   ]
  },
  {
   "cell_type": "code",
   "execution_count": 5,
   "metadata": {},
   "outputs": [],
   "source": [
    "with open('./JFKIA.txt', encoding='utf-8') as file:\n",
    "    doc = nlp(file.read())"
   ]
  },
  {
   "cell_type": "markdown",
   "metadata": {},
   "source": [
    "El archivo esta cargado en la variable `doc` revisemos los primeros 36 tokens del texto"
   ]
  },
  {
   "cell_type": "code",
   "execution_count": 6,
   "metadata": {},
   "outputs": [
    {
     "data": {
      "text/plain": [
       "John F. Kennedy’s Inaugural Address, January 20, 1961, 12:11 EST\n",
       "\n",
       "\n",
       "We observe today not a victory of party but a celebration of\n",
       "freedom—symbolizing an end as well as"
      ]
     },
     "execution_count": 6,
     "metadata": {},
     "output_type": "execute_result"
    }
   ],
   "source": [
    "doc[:36]"
   ]
  },
  {
   "cell_type": "markdown",
   "metadata": {},
   "source": [
    "El documento fue cargado exitosamente!"
   ]
  },
  {
   "cell_type": "markdown",
   "metadata": {},
   "source": [
    "**2. Tokens en el archivo**"
   ]
  },
  {
   "cell_type": "code",
   "execution_count": 1,
   "metadata": {},
   "outputs": [
    {
     "ename": "NameError",
     "evalue": "name 'doc' is not defined",
     "output_type": "error",
     "traceback": [
      "\u001b[0;31m---------------------------------------------------------------------------\u001b[0m",
      "\u001b[0;31mNameError\u001b[0m                                 Traceback (most recent call last)",
      "Cell \u001b[0;32mIn[1], line 1\u001b[0m\n\u001b[0;32m----> 1\u001b[0m \u001b[38;5;28mprint\u001b[39m(\u001b[38;5;124mf\u001b[39m\u001b[38;5;124m'\u001b[39m\u001b[38;5;124mEl archivo tiene \u001b[39m\u001b[38;5;132;01m{\u001b[39;00m\u001b[38;5;28mlen\u001b[39m(\u001b[43mdoc\u001b[49m)\u001b[38;5;132;01m}\u001b[39;00m\u001b[38;5;124m tokens.\u001b[39m\u001b[38;5;124m'\u001b[39m)\n",
      "\u001b[0;31mNameError\u001b[0m: name 'doc' is not defined"
     ]
    }
   ],
   "source": [
    "print(f'El archivo tiene {len(doc)} tokens.')"
   ]
  },
  {
   "cell_type": "markdown",
   "metadata": {},
   "source": [
    "**3. Oraciones en el archivo**\n",
    "<br>Pista: Necesitarás una lista primero"
   ]
  },
  {
   "cell_type": "code",
   "execution_count": null,
   "metadata": {},
   "outputs": [
    {
     "data": {
      "text/plain": [
       "50"
      ]
     },
     "execution_count": 8,
     "metadata": {},
     "output_type": "execute_result"
    }
   ],
   "source": [
    "sentences = list(doc.sents)\n",
    "print(f'El archivo tiene {len(sentences)} oraciones.')"
   ]
  },
  {
   "cell_type": "markdown",
   "metadata": {},
   "source": [
    "**4. Imprime la segunda oración del documento**\n",
    "<br> Pista: Los índices comienzan en 0 y el título cuenta como la primera oración."
   ]
  },
  {
   "cell_type": "code",
   "execution_count": 9,
   "metadata": {},
   "outputs": [
    {
     "data": {
      "text/plain": [
       "The world is very different now, for man holds in his mortal hands the\n",
       "power to abolish all forms of human poverty and all forms of human\n",
       "life."
      ]
     },
     "execution_count": 9,
     "metadata": {},
     "output_type": "execute_result"
    }
   ],
   "source": [
    "sentences[1]"
   ]
  },
  {
   "cell_type": "markdown",
   "metadata": {},
   "source": [
    "**5. Por cada token en la oración anterior, imprime su `text`, `POS` tag, `dep` tag y `lemma`**\n",
    "<br>"
   ]
  },
  {
   "cell_type": "code",
   "execution_count": 10,
   "metadata": {},
   "outputs": [
    {
     "name": "stdout",
     "output_type": "stream",
     "text": [
      "Text                POS                 dep                 lemma               \n",
      "The                 DET                 det                 the                 \n",
      "world               NOUN                nsubj               world               \n",
      "is                  AUX                 ROOT                be                  \n",
      "very                ADV                 advmod              very                \n",
      "different           ADJ                 acomp               different           \n",
      "now                 ADV                 advmod              now                 \n",
      ",                   PUNCT               punct               ,                   \n",
      "for                 SCONJ               mark                for                 \n",
      "man                 NOUN                nsubj               man                 \n",
      "holds               VERB                advcl               hold                \n",
      "in                  ADP                 prep                in                  \n",
      "his                 PRON                poss                his                 \n",
      "mortal              ADJ                 amod                mortal              \n",
      "hands               NOUN                pobj                hand                \n",
      "the                 DET                 det                 the                 \n",
      "\n",
      "                   SPACE               dep                 \n",
      "                   \n",
      "power               NOUN                dobj                power               \n",
      "to                  PART                aux                 to                  \n",
      "abolish             VERB                acl                 abolish             \n",
      "all                 DET                 det                 all                 \n",
      "forms               NOUN                dobj                form                \n",
      "of                  ADP                 prep                of                  \n",
      "human               ADJ                 amod                human               \n",
      "poverty             NOUN                pobj                poverty             \n",
      "and                 CCONJ               cc                  and                 \n",
      "all                 DET                 det                 all                 \n",
      "forms               NOUN                conj                form                \n",
      "of                  ADP                 prep                of                  \n",
      "human               ADJ                 amod                human               \n",
      "\n",
      "                   SPACE               dep                 \n",
      "                   \n",
      "life                NOUN                pobj                life                \n",
      ".                   PUNCT               punct               .                   \n"
     ]
    }
   ],
   "source": [
    "print(\"{:20}{:20}{:20}{:20}\".format(\"Text\", \"POS\", \"dep\", \"lemma\"))\n",
    "for token in sentences[1]:\n",
    "    print(f\"{token.text:{20}}{token.pos_:{20}}{token.dep_:{20}}{token.lemma_:{20}}\")"
   ]
  },
  {
   "cell_type": "markdown",
   "metadata": {},
   "source": [
    "**6. Implementa un matcher llamado *Pledge* que encuentre las ocurrencias de la frase *we pledge***\n",
    "\n",
    "Pista: Deberías incluir un patrón`'IS_SPACE': True` entre las dos palabras."
   ]
  },
  {
   "cell_type": "code",
   "execution_count": 11,
   "metadata": {},
   "outputs": [],
   "source": [
    "from spacy.matcher import Matcher\n",
    "\n",
    "matcher = Matcher(nlp.vocab)\n",
    "# Pattern to find \"we pledge\" specifically\n",
    "pledge_pattern = [\n",
    "    {'LOWER': 'we'},\n",
    "    {'IS_SPACE': True, 'OP': '*'},\n",
    "    {'LOWER': 'pledge'}\n",
    "]\n",
    "\n",
    "matcher.add(\"Pledge\", [pledge_pattern])\n"
   ]
  },
  {
   "cell_type": "code",
   "execution_count": 12,
   "metadata": {},
   "outputs": [
    {
     "data": {
      "text/plain": [
       "[(13569445558805512325, 314, 316),\n",
       " (13569445558805512325, 333, 336),\n",
       " (13569445558805512325, 403, 405),\n",
       " (13569445558805512325, 509, 511)]"
      ]
     },
     "execution_count": 12,
     "metadata": {},
     "output_type": "execute_result"
    }
   ],
   "source": [
    "found_matches = matcher(doc)\n",
    "found_matches"
   ]
  },
  {
   "cell_type": "markdown",
   "metadata": {},
   "source": [
    "Se encuentran 4 ocurrencias"
   ]
  },
  {
   "cell_type": "markdown",
   "metadata": {},
   "source": [
    "**7. Imprime el texto al rededor de cada match encontrado**"
   ]
  },
  {
   "cell_type": "code",
   "execution_count": 13,
   "metadata": {},
   "outputs": [
    {
     "name": "stdout",
     "output_type": "stream",
     "text": [
      "and the success of liberty.\n",
      "\n",
      "This much we pledge—and more.\n",
      "\n",
      "To those old allies whose cultural and spiritual\n",
      "----------------------------------------\n",
      "allies whose cultural and spiritual origins we share: we\n",
      "pledge the loyalty of faithful friends. United, there is little we\n",
      "\n",
      "----------------------------------------\n",
      "we welcome to the ranks of the free: we pledge\n",
      "our word that one form of colonial control shall not have passed\n",
      "----------------------------------------\n",
      "\n",
      "to break the bonds of mass misery: we pledge our best efforts to help\n",
      "them help themselves, for whatever period\n",
      "----------------------------------------\n"
     ]
    }
   ],
   "source": [
    "for _, start, end in found_matches:\n",
    "    print(doc[start-9:end+13])\n",
    "    print('-' * 40)"
   ]
  },
  {
   "cell_type": "markdown",
   "metadata": {},
   "source": [
    "**8. Imprime la oración que contiene cada match encontrado**"
   ]
  },
  {
   "cell_type": "code",
   "execution_count": 14,
   "metadata": {},
   "outputs": [
    {
     "name": "stdout",
     "output_type": "stream",
     "text": [
      "This much we pledge—and more.\n",
      "\n",
      "\n",
      "----------------------------------------\n",
      "To those old allies whose cultural and spiritual origins we share: we\n",
      "pledge the loyalty of faithful friends.\n",
      "----------------------------------------\n",
      "To those new states whom we welcome to the ranks of the free: we pledge\n",
      "our word that one form of colonial control shall not have passed away\n",
      "merely to be replaced by a far more iron tyranny.\n",
      "----------------------------------------\n",
      "To those people in the huts and villages of half the globe struggling\n",
      "to break the bonds of mass misery: we pledge our best efforts to help\n",
      "them help themselves, for whatever period is required—not because the\n",
      "Communists may be doing it, not because we seek their votes, but\n",
      "because it is right.\n",
      "----------------------------------------\n"
     ]
    }
   ],
   "source": [
    "for sentence in sentences:\n",
    "    for _, start, end in found_matches:\n",
    "        if sentence.start <= start and sentence.end >= end:\n",
    "            print(sentence.text)\n",
    "            print('-' * 40)"
   ]
  },
  {
   "cell_type": "markdown",
   "metadata": {},
   "source": [
    "Podemos notar que el matcher nos permite identificar las partes del texto donde se realizan promesas\n",
    "\n",
    "Cabe destacar que existen más formas de hacer promesas y para tenerlos todos se debe ampliar las opciones del patrón o crear varios matcher. Para evitar extender el análisis con tantas coincidencias se realizó el ejercicio unicamente con un tipo de promesa en el idioma"
   ]
  }
 ],
 "metadata": {
  "kernelspec": {
   "display_name": "icesi-nlp",
   "language": "python",
   "name": "python3"
  },
  "language_info": {
   "codemirror_mode": {
    "name": "ipython",
    "version": 3
   },
   "file_extension": ".py",
   "mimetype": "text/x-python",
   "name": "python",
   "nbconvert_exporter": "python",
   "pygments_lexer": "ipython3",
   "version": "3.10.18"
  }
 },
 "nbformat": 4,
 "nbformat_minor": 2
}
